{
 "cells": [
  {
   "cell_type": "code",
   "execution_count": 3,
   "id": "3262e824",
   "metadata": {},
   "outputs": [
    {
     "name": "stdout",
     "output_type": "stream",
     "text": [
      "The autoreload extension is already loaded. To reload it, use:\n",
      "  %reload_ext autoreload\n"
     ]
    }
   ],
   "source": [
    "%load_ext autoreload\n",
    "%autoreload 2"
   ]
  },
  {
   "cell_type": "code",
   "execution_count": 4,
   "id": "bd318a64",
   "metadata": {},
   "outputs": [],
   "source": [
    "from open_democracy_back.models import *\n",
    "from django.db.models import Case, When, Value, IntegerField, Avg, FloatField, Max, Count"
   ]
  },
  {
   "cell_type": "code",
   "execution_count": 44,
   "id": "d54b8bf5",
   "metadata": {},
   "outputs": [],
   "source": [
    "question_boolean_pk = 13\n",
    "question_unique_pk = 15\n",
    "question_pk = question_boolean_pk\n",
    "question_objective_pk = 1\n",
    "assessment_pk = 6"
   ]
  },
  {
   "cell_type": "code",
   "execution_count": 45,
   "id": "d4a65fcf",
   "metadata": {},
   "outputs": [
    {
     "data": {
      "text/plain": [
       "<QuerySet [<ParticipationResponse: ParticipationResponse object (21)>, <ParticipationResponse: ParticipationResponse object (28)>, <ParticipationResponse: ParticipationResponse object (49)>, <ParticipationResponse: ParticipationResponse object (78)>]>"
      ]
     },
     "execution_count": 45,
     "metadata": {},
     "output_type": "execute_result"
    }
   ],
   "source": [
    "queryset = Question.objects.filter(profiling_question=False).filter(id=question_pk)\n",
    "question = queryset.get()\n",
    "question.participationresponses.all()"
   ]
  },
  {
   "cell_type": "code",
   "execution_count": 46,
   "id": "d0153f59",
   "metadata": {},
   "outputs": [
    {
     "ename": "IndexError",
     "evalue": "list index out of range",
     "output_type": "error",
     "traceback": [
      "\u001b[0;31m---------------------------------------------------------------------------\u001b[0m",
      "\u001b[0;31mIndexError\u001b[0m                                Traceback (most recent call last)",
      "Input \u001b[0;32mIn [46]\u001b[0m, in \u001b[0;36m<module>\u001b[0;34m\u001b[0m\n\u001b[0;32m----> 1\u001b[0m \u001b[43mquestion\u001b[49m\u001b[38;5;241;43m.\u001b[39;49m\u001b[43mparticipationresponses\u001b[49m\u001b[38;5;241;43m.\u001b[39;49m\u001b[43mall\u001b[49m\u001b[43m(\u001b[49m\u001b[43m)\u001b[49m\u001b[43m[\u001b[49m\u001b[38;5;241;43m4\u001b[39;49m\u001b[43m]\u001b[49m\u001b[38;5;241m.\u001b[39m\u001b[38;5;18m__dict__\u001b[39m\n",
      "File \u001b[0;32m~/.local/share/virtualenvs/do/lib/python3.8/site-packages/django/db/models/query.py:318\u001b[0m, in \u001b[0;36mQuerySet.__getitem__\u001b[0;34m(self, k)\u001b[0m\n\u001b[1;32m    316\u001b[0m qs\u001b[38;5;241m.\u001b[39mquery\u001b[38;5;241m.\u001b[39mset_limits(k, k \u001b[38;5;241m+\u001b[39m \u001b[38;5;241m1\u001b[39m)\n\u001b[1;32m    317\u001b[0m qs\u001b[38;5;241m.\u001b[39m_fetch_all()\n\u001b[0;32m--> 318\u001b[0m \u001b[38;5;28;01mreturn\u001b[39;00m \u001b[43mqs\u001b[49m\u001b[38;5;241;43m.\u001b[39;49m\u001b[43m_result_cache\u001b[49m\u001b[43m[\u001b[49m\u001b[38;5;241;43m0\u001b[39;49m\u001b[43m]\u001b[49m\n",
      "\u001b[0;31mIndexError\u001b[0m: list index out of range"
     ]
    }
   ],
   "source": [
    "question.participationresponses.all()[4].__dict__"
   ]
  },
  {
   "cell_type": "code",
   "execution_count": 47,
   "id": "a0191a79",
   "metadata": {},
   "outputs": [
    {
     "data": {
      "text/plain": [
       "['DoesNotExist',\n",
       " 'Meta',\n",
       " 'MultipleObjectsReturned',\n",
       " '__class__',\n",
       " '__delattr__',\n",
       " '__dict__',\n",
       " '__dir__',\n",
       " '__doc__',\n",
       " '__eq__',\n",
       " '__format__',\n",
       " '__ge__',\n",
       " '__getattribute__',\n",
       " '__getstate__',\n",
       " '__gt__',\n",
       " '__hash__',\n",
       " '__init__',\n",
       " '__init_subclass__',\n",
       " '__le__',\n",
       " '__lt__',\n",
       " '__module__',\n",
       " '__ne__',\n",
       " '__new__',\n",
       " '__reduce__',\n",
       " '__reduce_ex__',\n",
       " '__repr__',\n",
       " '__setattr__',\n",
       " '__setstate__',\n",
       " '__sizeof__',\n",
       " '__str__',\n",
       " '__subclasshook__',\n",
       " '__weakref__',\n",
       " '_check_column_name_clashes',\n",
       " '_check_constraints',\n",
       " '_check_default_pk',\n",
       " '_check_field_name_clashes',\n",
       " '_check_fields',\n",
       " '_check_id_field',\n",
       " '_check_index_together',\n",
       " '_check_indexes',\n",
       " '_check_local_fields',\n",
       " '_check_long_column_names',\n",
       " '_check_m2m_through_same_relationship',\n",
       " '_check_managers',\n",
       " '_check_model',\n",
       " '_check_model_name_db_lookup_clashes',\n",
       " '_check_ordering',\n",
       " '_check_property_name_related_field_accessor_clashes',\n",
       " '_check_search_fields',\n",
       " '_check_single_primary_key',\n",
       " '_check_swappable',\n",
       " '_check_unique_together',\n",
       " '_do_insert',\n",
       " '_do_update',\n",
       " '_get_FIELD_display',\n",
       " '_get_expr_references',\n",
       " '_get_next_or_previous_by_FIELD',\n",
       " '_get_next_or_previous_in_order',\n",
       " '_get_pk_val',\n",
       " '_get_unique_checks',\n",
       " '_has_field',\n",
       " '_meta',\n",
       " '_perform_date_checks',\n",
       " '_perform_unique_checks',\n",
       " '_prepare_related_fields_for_save',\n",
       " '_save_parents',\n",
       " '_save_table',\n",
       " '_set_pk_val',\n",
       " '_state',\n",
       " 'allows_to_explain',\n",
       " 'allows_to_explain_id',\n",
       " 'assessment_types',\n",
       " 'assessmentresponses',\n",
       " 'categories',\n",
       " 'check',\n",
       " 'clean',\n",
       " 'clean_fields',\n",
       " 'code',\n",
       " 'comments',\n",
       " 'commun_types_panels',\n",
       " 'concatenated_code',\n",
       " 'copy_all_child_relations',\n",
       " 'copy_child_relation',\n",
       " 'copy_cluster',\n",
       " 'created',\n",
       " 'criteria',\n",
       " 'criteria_id',\n",
       " 'date_error_message',\n",
       " 'delete',\n",
       " 'description',\n",
       " 'explained_by',\n",
       " 'explanation_panels',\n",
       " 'from_db',\n",
       " 'from_json',\n",
       " 'from_serializable_data',\n",
       " 'full_clean',\n",
       " 'get_autocomplete_search_fields',\n",
       " 'get_deferred_fields',\n",
       " 'get_filterable_search_fields',\n",
       " 'get_indexed_instance',\n",
       " 'get_indexed_objects',\n",
       " 'get_method_display',\n",
       " 'get_next_by_created',\n",
       " 'get_next_by_modified',\n",
       " 'get_objectivity_display',\n",
       " 'get_previous_by_created',\n",
       " 'get_previous_by_modified',\n",
       " 'get_rules_intersection_operator_display',\n",
       " 'get_search_fields',\n",
       " 'get_searchable_search_fields',\n",
       " 'get_type_display',\n",
       " 'get_usage',\n",
       " 'id',\n",
       " 'index_entries',\n",
       " 'indexed_get_content_type',\n",
       " 'indexed_get_parent',\n",
       " 'indexed_get_toplevel_content_type',\n",
       " 'mandatory',\n",
       " 'max_multiple_choices',\n",
       " 'method',\n",
       " 'modified',\n",
       " 'name',\n",
       " 'objectivity',\n",
       " 'objects',\n",
       " 'participationresponses',\n",
       " 'percentage_ranges',\n",
       " 'pk',\n",
       " 'population_lower_bound',\n",
       " 'population_upper_bound',\n",
       " 'prepare_database_save',\n",
       " 'principal_panels',\n",
       " 'profiledefinition_that_depend_on_me',\n",
       " 'profiles',\n",
       " 'profiling_question',\n",
       " 'question_statement',\n",
       " 'questionrule_that_depend_on_me',\n",
       " 'refresh_from_db',\n",
       " 'representativity_criteria',\n",
       " 'response_choices',\n",
       " 'roles',\n",
       " 'rules',\n",
       " 'rules_intersection_operator',\n",
       " 'save',\n",
       " 'save_base',\n",
       " 'search_fields',\n",
       " 'serializable_data',\n",
       " 'serializable_value',\n",
       " 'survey_type',\n",
       " 'to_json',\n",
       " 'type',\n",
       " 'unique_error_message',\n",
       " 'usage_url',\n",
       " 'validate_unique']"
      ]
     },
     "execution_count": 47,
     "metadata": {},
     "output_type": "execute_result"
    }
   ],
   "source": [
    "dir(question)"
   ]
  },
  {
   "cell_type": "code",
   "execution_count": 49,
   "id": "c9e9b2ba",
   "metadata": {
    "scrolled": false
   },
   "outputs": [
    {
     "data": {
      "text/plain": [
       "{'_state': <django.db.models.base.ModelState at 0x7fc061f3c250>,\n",
       " 'id': 13,\n",
       " 'created': datetime.datetime(2022, 5, 16, 15, 0, 16, 228915, tzinfo=<UTC>),\n",
       " 'modified': datetime.datetime(2022, 5, 16, 15, 0, 16, 228915, tzinfo=<UTC>),\n",
       " 'rules_intersection_operator': 'and',\n",
       " 'code': '1',\n",
       " 'concatenated_code': 'T.A.2.1',\n",
       " 'name': 'Nouvelle question',\n",
       " 'question_statement': 'Nouvelle question ?',\n",
       " 'mandatory': True,\n",
       " 'type': 'boolean',\n",
       " 'population_lower_bound': None,\n",
       " 'population_upper_bound': None,\n",
       " 'allows_to_explain_id': None,\n",
       " 'max_multiple_choices': None,\n",
       " 'description': '',\n",
       " 'comments': '',\n",
       " 'criteria_id': 10,\n",
       " 'objectivity': 'subjective',\n",
       " 'method': 'qualitative',\n",
       " 'profiling_question': False,\n",
       " 'true': 2,\n",
       " 'false': 1}"
      ]
     },
     "execution_count": 49,
     "metadata": {},
     "output_type": "execute_result"
    }
   ],
   "source": [
    "base_queryset = {\n",
    "    \"participationresponses__participation__user__is_unknown_user\": False,\n",
    "    \"participationresponses__participation__assessment_id\": assessment_pk,\n",
    "}\n",
    "queryset.annotate(true=Count(\"participationresponses\", filter=Q(**base_queryset, participationresponses__boolean_response=True)), false=Count(\"participationresponses\", filter=Q(**base_queryset, participationresponses__boolean_response=False))).get().__dict__"
   ]
  },
  {
   "cell_type": "code",
   "execution_count": null,
   "id": "d1915de5",
   "metadata": {},
   "outputs": [],
   "source": []
  },
  {
   "cell_type": "code",
   "execution_count": 42,
   "id": "91ab7d38",
   "metadata": {},
   "outputs": [],
   "source": [
    "q2 = Question.objects.filter(profiling_question=False).filter(id=question_pk)"
   ]
  },
  {
   "cell_type": "code",
   "execution_count": 43,
   "id": "784c91ee",
   "metadata": {},
   "outputs": [
    {
     "ename": "SyntaxError",
     "evalue": "unexpected EOF while parsing (103158071.py, line 1)",
     "output_type": "error",
     "traceback": [
      "\u001b[0;36m  Input \u001b[0;32mIn [43]\u001b[0;36m\u001b[0m\n\u001b[0;31m    q2.annotate(Count(participationresponses__participation__user__is_unknown_user=False)\u001b[0m\n\u001b[0m                                                                                         ^\u001b[0m\n\u001b[0;31mSyntaxError\u001b[0m\u001b[0;31m:\u001b[0m unexpected EOF while parsing\n"
     ]
    }
   ],
   "source": [
    "q2.annotate(Count(participationresponses__participation__user__is_unknown_user=False)"
   ]
  },
  {
   "cell_type": "code",
   "execution_count": 17,
   "id": "d18c10ec",
   "metadata": {},
   "outputs": [
    {
     "data": {
      "text/plain": [
       "<QuerySet [<ResponseChoice: blublu>, <ResponseChoice: blabla>]>"
      ]
     },
     "execution_count": 17,
     "metadata": {},
     "output_type": "execute_result"
    }
   ],
   "source": [
    "rc=ResponseChoice.objects.filter(question_id=question_pk)\n",
    "rc"
   ]
  },
  {
   "cell_type": "code",
   "execution_count": 26,
   "id": "f4f366ba",
   "metadata": {
    "scrolled": true
   },
   "outputs": [],
   "source": [
    "# current_queryset = {f\"question__{item}\": value for item, value in base_queryset.items()}\n",
    "current_queryset = {'unique_choice_participationresponses__participation__user__is_unknown_user': False,\n",
    " 'unique_choice_participationresponses__participation__assessment_id': 6,\n",
    " 'unique_choice_participationresponses__question__profiling_question': False}"
   ]
  },
  {
   "cell_type": "code",
   "execution_count": 27,
   "id": "0b8e7d5a",
   "metadata": {},
   "outputs": [
    {
     "ename": "SyntaxError",
     "evalue": "unmatched ')' (344450316.py, line 1)",
     "output_type": "error",
     "traceback": [
      "\u001b[0;36m  Input \u001b[0;32mIn [27]\u001b[0;36m\u001b[0m\n\u001b[0;31m    rc.filter)\u001b[0m\n\u001b[0m             ^\u001b[0m\n\u001b[0;31mSyntaxError\u001b[0m\u001b[0;31m:\u001b[0m unmatched ')'\n"
     ]
    }
   ],
   "source": [
    "rc.filter)"
   ]
  },
  {
   "cell_type": "code",
   "execution_count": 33,
   "id": "435887a2",
   "metadata": {},
   "outputs": [
    {
     "data": {
      "text/plain": [
       "{'_state': <django.db.models.base.ModelState at 0x7fc0614e6970>,\n",
       " 'id': 46,\n",
       " 'sort_order': 1,\n",
       " 'created': datetime.datetime(2022, 5, 23, 14, 7, 43, 516638, tzinfo=<UTC>),\n",
       " 'modified': datetime.datetime(2022, 5, 23, 14, 7, 43, 516638, tzinfo=<UTC>),\n",
       " 'associated_score': None,\n",
       " 'linearized_score': None,\n",
       " 'question_id': 15,\n",
       " 'response_choice': 'blabla',\n",
       " 'description': '',\n",
       " 'count': 1}"
      ]
     },
     "execution_count": 33,
     "metadata": {},
     "output_type": "execute_result"
    }
   ],
   "source": [
    "res = rc.annotate(count=Count(\"unique_choice_participationresponses\", filter=Q(**current_queryset)))\n",
    "res[1].__dict__"
   ]
  },
  {
   "cell_type": "code",
   "execution_count": null,
   "id": "f7a93086",
   "metadata": {},
   "outputs": [],
   "source": [
    "p = ParticipationResponse.objects.filter(question_id=question_id).annotate(\"\")\n",
    "p"
   ]
  }
 ],
 "metadata": {
  "kernelspec": {
   "display_name": "Django Shell-Plus",
   "language": "python",
   "name": "django_extensions"
  },
  "language_info": {
   "codemirror_mode": {
    "name": "ipython",
    "version": 3
   },
   "file_extension": ".py",
   "mimetype": "text/x-python",
   "name": "python",
   "nbconvert_exporter": "python",
   "pygments_lexer": "ipython3",
   "version": "3.8.10"
  }
 },
 "nbformat": 4,
 "nbformat_minor": 5
}
