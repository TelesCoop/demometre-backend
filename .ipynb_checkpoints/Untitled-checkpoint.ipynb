{
 "cells": [
  {
   "cell_type": "code",
   "execution_count": 3,
   "id": "3262e824",
   "metadata": {},
   "outputs": [
    {
     "name": "stdout",
     "output_type": "stream",
     "text": [
      "The autoreload extension is already loaded. To reload it, use:\n",
      "  %reload_ext autoreload\n"
     ]
    }
   ],
   "source": [
    "%load_ext autoreload\n",
    "%autoreload 2"
   ]
  },
  {
   "cell_type": "code",
   "execution_count": 4,
   "id": "bd318a64",
   "metadata": {},
   "outputs": [],
   "source": [
    "from open_democracy_back.models import *\n",
    "from django.db.models import Case, When, Value, IntegerField, Avg, FloatField, Max, Count"
   ]
  },
  {
   "cell_type": "code",
   "execution_count": 5,
   "id": "d54b8bf5",
   "metadata": {},
   "outputs": [],
   "source": [
    "question_pk = 13\n",
    "question_objective_pk = 1\n",
    "assessment = 6"
   ]
  },
  {
   "cell_type": "code",
   "execution_count": 7,
   "id": "d4a65fcf",
   "metadata": {},
   "outputs": [
    {
     "data": {
      "text/plain": [
       "<Question: T.A.2.1: Nouvelle question>"
      ]
     },
     "execution_count": 7,
     "metadata": {},
     "output_type": "execute_result"
    }
   ],
   "source": [
    "queryset = Question.objects.filter(profiling_question=False).filter(id=question_pk)\n",
    "question = queryset.get()\n",
    "question"
   ]
  },
  {
   "cell_type": "code",
   "execution_count": 10,
   "id": "a0191a79",
   "metadata": {},
   "outputs": [
    {
     "data": {
      "text/plain": [
       "['DoesNotExist',\n",
       " 'Meta',\n",
       " 'MultipleObjectsReturned',\n",
       " '__class__',\n",
       " '__delattr__',\n",
       " '__dict__',\n",
       " '__dir__',\n",
       " '__doc__',\n",
       " '__eq__',\n",
       " '__format__',\n",
       " '__ge__',\n",
       " '__getattribute__',\n",
       " '__getstate__',\n",
       " '__gt__',\n",
       " '__hash__',\n",
       " '__init__',\n",
       " '__init_subclass__',\n",
       " '__le__',\n",
       " '__lt__',\n",
       " '__module__',\n",
       " '__ne__',\n",
       " '__new__',\n",
       " '__reduce__',\n",
       " '__reduce_ex__',\n",
       " '__repr__',\n",
       " '__setattr__',\n",
       " '__setstate__',\n",
       " '__sizeof__',\n",
       " '__str__',\n",
       " '__subclasshook__',\n",
       " '__weakref__',\n",
       " '_check_column_name_clashes',\n",
       " '_check_constraints',\n",
       " '_check_default_pk',\n",
       " '_check_field_name_clashes',\n",
       " '_check_fields',\n",
       " '_check_id_field',\n",
       " '_check_index_together',\n",
       " '_check_indexes',\n",
       " '_check_local_fields',\n",
       " '_check_long_column_names',\n",
       " '_check_m2m_through_same_relationship',\n",
       " '_check_managers',\n",
       " '_check_model',\n",
       " '_check_model_name_db_lookup_clashes',\n",
       " '_check_ordering',\n",
       " '_check_property_name_related_field_accessor_clashes',\n",
       " '_check_search_fields',\n",
       " '_check_single_primary_key',\n",
       " '_check_swappable',\n",
       " '_check_unique_together',\n",
       " '_do_insert',\n",
       " '_do_update',\n",
       " '_get_FIELD_display',\n",
       " '_get_expr_references',\n",
       " '_get_next_or_previous_by_FIELD',\n",
       " '_get_next_or_previous_in_order',\n",
       " '_get_pk_val',\n",
       " '_get_unique_checks',\n",
       " '_has_field',\n",
       " '_meta',\n",
       " '_perform_date_checks',\n",
       " '_perform_unique_checks',\n",
       " '_prepare_related_fields_for_save',\n",
       " '_save_parents',\n",
       " '_save_table',\n",
       " '_set_pk_val',\n",
       " '_state',\n",
       " 'allows_to_explain',\n",
       " 'allows_to_explain_id',\n",
       " 'assessment_types',\n",
       " 'assessmentresponses',\n",
       " 'categories',\n",
       " 'check',\n",
       " 'clean',\n",
       " 'clean_fields',\n",
       " 'code',\n",
       " 'comments',\n",
       " 'commun_types_panels',\n",
       " 'concatenated_code',\n",
       " 'copy_all_child_relations',\n",
       " 'copy_child_relation',\n",
       " 'copy_cluster',\n",
       " 'created',\n",
       " 'criteria',\n",
       " 'criteria_id',\n",
       " 'date_error_message',\n",
       " 'delete',\n",
       " 'description',\n",
       " 'explained_by',\n",
       " 'explanation_panels',\n",
       " 'from_db',\n",
       " 'from_json',\n",
       " 'from_serializable_data',\n",
       " 'full_clean',\n",
       " 'get_autocomplete_search_fields',\n",
       " 'get_deferred_fields',\n",
       " 'get_filterable_search_fields',\n",
       " 'get_indexed_instance',\n",
       " 'get_indexed_objects',\n",
       " 'get_method_display',\n",
       " 'get_next_by_created',\n",
       " 'get_next_by_modified',\n",
       " 'get_objectivity_display',\n",
       " 'get_previous_by_created',\n",
       " 'get_previous_by_modified',\n",
       " 'get_rules_intersection_operator_display',\n",
       " 'get_search_fields',\n",
       " 'get_searchable_search_fields',\n",
       " 'get_type_display',\n",
       " 'get_usage',\n",
       " 'id',\n",
       " 'index_entries',\n",
       " 'indexed_get_content_type',\n",
       " 'indexed_get_parent',\n",
       " 'indexed_get_toplevel_content_type',\n",
       " 'mandatory',\n",
       " 'max_multiple_choices',\n",
       " 'method',\n",
       " 'modified',\n",
       " 'name',\n",
       " 'objectivity',\n",
       " 'objects',\n",
       " 'participationresponses',\n",
       " 'percentage_ranges',\n",
       " 'pk',\n",
       " 'population_lower_bound',\n",
       " 'population_upper_bound',\n",
       " 'prepare_database_save',\n",
       " 'principal_panels',\n",
       " 'profiledefinition_that_depend_on_me',\n",
       " 'profiles',\n",
       " 'profiling_question',\n",
       " 'question_statement',\n",
       " 'questionrule_that_depend_on_me',\n",
       " 'refresh_from_db',\n",
       " 'representativity_criteria',\n",
       " 'response_choices',\n",
       " 'roles',\n",
       " 'rules',\n",
       " 'rules_intersection_operator',\n",
       " 'save',\n",
       " 'save_base',\n",
       " 'search_fields',\n",
       " 'serializable_data',\n",
       " 'serializable_value',\n",
       " 'survey_type',\n",
       " 'to_json',\n",
       " 'type',\n",
       " 'unique_error_message',\n",
       " 'usage_url',\n",
       " 'validate_unique']"
      ]
     },
     "execution_count": 10,
     "metadata": {},
     "output_type": "execute_result"
    }
   ],
   "source": [
    "dir(question)"
   ]
  },
  {
   "cell_type": "code",
   "execution_count": 9,
   "id": "c9e9b2ba",
   "metadata": {
    "scrolled": false
   },
   "outputs": [
    {
     "ename": "SyntaxError",
     "evalue": "invalid syntax (2368863139.py, line 2)",
     "output_type": "error",
     "traceback": [
      "\u001b[0;36m  Input \u001b[0;32mIn [9]\u001b[0;36m\u001b[0m\n\u001b[0;31m    participation__user__is_unknown_user=False,\u001b[0m\n\u001b[0m                                        ^\u001b[0m\n\u001b[0;31mSyntaxError\u001b[0m\u001b[0;31m:\u001b[0m invalid syntax\n"
     ]
    }
   ],
   "source": [
    "base_queryset = {\n",
    "    \"participation__user__is_unknown_user\": False,\n",
    "    \"participation__assessment_id\": assessment_pk,\n",
    "    \"question__profiling_question\": False,\n",
    "}\n",
    "queryset.annotate(true_count=Count(\"participationresponses\", filter=Q(**base_queryset, boolean_response=True)))"
   ]
  },
  {
   "cell_type": "code",
   "execution_count": null,
   "id": "5294306c",
   "metadata": {},
   "outputs": [],
   "source": []
  },
  {
   "cell_type": "code",
   "execution_count": 9,
   "id": "91ab7d38",
   "metadata": {},
   "outputs": [],
   "source": [
    "q2 = Question.objects.filter(profiling_question=False).filter(id=question_pk)"
   ]
  },
  {
   "cell_type": "code",
   "execution_count": null,
   "id": "784c91ee",
   "metadata": {},
   "outputs": [],
   "source": [
    "q2.annotate(Count(participationresponses__participation__user__is_unknown_user=False)"
   ]
  }
 ],
 "metadata": {
  "kernelspec": {
   "display_name": "Django Shell-Plus",
   "language": "python",
   "name": "django_extensions"
  },
  "language_info": {
   "codemirror_mode": {
    "name": "ipython",
    "version": 3
   },
   "file_extension": ".py",
   "mimetype": "text/x-python",
   "name": "python",
   "nbconvert_exporter": "python",
   "pygments_lexer": "ipython3",
   "version": "3.8.10"
  }
 },
 "nbformat": 4,
 "nbformat_minor": 5
}
