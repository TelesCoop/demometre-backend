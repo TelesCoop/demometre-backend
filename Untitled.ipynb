{
 "cells": [
  {
   "cell_type": "code",
   "execution_count": 1,
   "id": "3262e824",
   "metadata": {},
   "outputs": [],
   "source": [
    "%load_ext autoreload\n",
    "%autoreload 2"
   ]
  },
  {
   "cell_type": "code",
   "execution_count": 67,
   "id": "bd318a64",
   "metadata": {},
   "outputs": [],
   "source": [
    "from open_democracy_back.models import *\n",
    "from django.db.models import Case, When, Value, IntegerField, Avg, FloatField, Max, Count\n",
    "from collections import defaultdict\n"
   ]
  },
  {
   "cell_type": "code",
   "execution_count": 38,
   "id": "d54b8bf5",
   "metadata": {},
   "outputs": [],
   "source": [
    "question_boolean_pk = 13\n",
    "question_unique_pk = 15\n",
    "question_percentage_pk = 3\n",
    "question_closed_with_scale_pk = 16\n",
    "question_pk = question_closed_with_scale_pk\n",
    "question_objective_pk = 1\n",
    "assessment_pk = 6"
   ]
  },
  {
   "cell_type": "code",
   "execution_count": 4,
   "id": "d4a65fcf",
   "metadata": {},
   "outputs": [
    {
     "data": {
      "text/plain": [
       "<QuerySet [<ParticipationResponse: ParticipationResponse object (21)>, <ParticipationResponse: ParticipationResponse object (28)>, <ParticipationResponse: ParticipationResponse object (49)>, <ParticipationResponse: ParticipationResponse object (78)>]>"
      ]
     },
     "execution_count": 4,
     "metadata": {},
     "output_type": "execute_result"
    }
   ],
   "source": [
    "queryset = Question.objects.filter(profiling_question=False).filter(id=question_pk)\n",
    "question = queryset.get()\n",
    "question.participationresponses.all()"
   ]
  },
  {
   "cell_type": "code",
   "execution_count": 5,
   "id": "d0153f59",
   "metadata": {},
   "outputs": [
    {
     "ename": "IndexError",
     "evalue": "list index out of range",
     "output_type": "error",
     "traceback": [
      "\u001b[0;31m---------------------------------------------------------------------------\u001b[0m",
      "\u001b[0;31mIndexError\u001b[0m                                Traceback (most recent call last)",
      "Input \u001b[0;32mIn [5]\u001b[0m, in \u001b[0;36m<module>\u001b[0;34m\u001b[0m\n\u001b[0;32m----> 1\u001b[0m \u001b[43mquestion\u001b[49m\u001b[38;5;241;43m.\u001b[39;49m\u001b[43mparticipationresponses\u001b[49m\u001b[38;5;241;43m.\u001b[39;49m\u001b[43mall\u001b[49m\u001b[43m(\u001b[49m\u001b[43m)\u001b[49m\u001b[43m[\u001b[49m\u001b[38;5;241;43m4\u001b[39;49m\u001b[43m]\u001b[49m\u001b[38;5;241m.\u001b[39m\u001b[38;5;18m__dict__\u001b[39m\n",
      "File \u001b[0;32m~/.local/share/virtualenvs/do/lib/python3.8/site-packages/django/db/models/query.py:318\u001b[0m, in \u001b[0;36mQuerySet.__getitem__\u001b[0;34m(self, k)\u001b[0m\n\u001b[1;32m    316\u001b[0m qs\u001b[38;5;241m.\u001b[39mquery\u001b[38;5;241m.\u001b[39mset_limits(k, k \u001b[38;5;241m+\u001b[39m \u001b[38;5;241m1\u001b[39m)\n\u001b[1;32m    317\u001b[0m qs\u001b[38;5;241m.\u001b[39m_fetch_all()\n\u001b[0;32m--> 318\u001b[0m \u001b[38;5;28;01mreturn\u001b[39;00m \u001b[43mqs\u001b[49m\u001b[38;5;241;43m.\u001b[39;49m\u001b[43m_result_cache\u001b[49m\u001b[43m[\u001b[49m\u001b[38;5;241;43m0\u001b[39;49m\u001b[43m]\u001b[49m\n",
      "\u001b[0;31mIndexError\u001b[0m: list index out of range"
     ]
    }
   ],
   "source": [
    "question.participationresponses.all()[4].__dict__"
   ]
  },
  {
   "cell_type": "code",
   "execution_count": 47,
   "id": "a0191a79",
   "metadata": {},
   "outputs": [
    {
     "data": {
      "text/plain": [
       "['DoesNotExist',\n",
       " 'Meta',\n",
       " 'MultipleObjectsReturned',\n",
       " '__class__',\n",
       " '__delattr__',\n",
       " '__dict__',\n",
       " '__dir__',\n",
       " '__doc__',\n",
       " '__eq__',\n",
       " '__format__',\n",
       " '__ge__',\n",
       " '__getattribute__',\n",
       " '__getstate__',\n",
       " '__gt__',\n",
       " '__hash__',\n",
       " '__init__',\n",
       " '__init_subclass__',\n",
       " '__le__',\n",
       " '__lt__',\n",
       " '__module__',\n",
       " '__ne__',\n",
       " '__new__',\n",
       " '__reduce__',\n",
       " '__reduce_ex__',\n",
       " '__repr__',\n",
       " '__setattr__',\n",
       " '__setstate__',\n",
       " '__sizeof__',\n",
       " '__str__',\n",
       " '__subclasshook__',\n",
       " '__weakref__',\n",
       " '_check_column_name_clashes',\n",
       " '_check_constraints',\n",
       " '_check_default_pk',\n",
       " '_check_field_name_clashes',\n",
       " '_check_fields',\n",
       " '_check_id_field',\n",
       " '_check_index_together',\n",
       " '_check_indexes',\n",
       " '_check_local_fields',\n",
       " '_check_long_column_names',\n",
       " '_check_m2m_through_same_relationship',\n",
       " '_check_managers',\n",
       " '_check_model',\n",
       " '_check_model_name_db_lookup_clashes',\n",
       " '_check_ordering',\n",
       " '_check_property_name_related_field_accessor_clashes',\n",
       " '_check_search_fields',\n",
       " '_check_single_primary_key',\n",
       " '_check_swappable',\n",
       " '_check_unique_together',\n",
       " '_do_insert',\n",
       " '_do_update',\n",
       " '_get_FIELD_display',\n",
       " '_get_expr_references',\n",
       " '_get_next_or_previous_by_FIELD',\n",
       " '_get_next_or_previous_in_order',\n",
       " '_get_pk_val',\n",
       " '_get_unique_checks',\n",
       " '_has_field',\n",
       " '_meta',\n",
       " '_perform_date_checks',\n",
       " '_perform_unique_checks',\n",
       " '_prepare_related_fields_for_save',\n",
       " '_save_parents',\n",
       " '_save_table',\n",
       " '_set_pk_val',\n",
       " '_state',\n",
       " 'allows_to_explain',\n",
       " 'allows_to_explain_id',\n",
       " 'assessment_types',\n",
       " 'assessmentresponses',\n",
       " 'categories',\n",
       " 'check',\n",
       " 'clean',\n",
       " 'clean_fields',\n",
       " 'code',\n",
       " 'comments',\n",
       " 'commun_types_panels',\n",
       " 'concatenated_code',\n",
       " 'copy_all_child_relations',\n",
       " 'copy_child_relation',\n",
       " 'copy_cluster',\n",
       " 'created',\n",
       " 'criteria',\n",
       " 'criteria_id',\n",
       " 'date_error_message',\n",
       " 'delete',\n",
       " 'description',\n",
       " 'explained_by',\n",
       " 'explanation_panels',\n",
       " 'from_db',\n",
       " 'from_json',\n",
       " 'from_serializable_data',\n",
       " 'full_clean',\n",
       " 'get_autocomplete_search_fields',\n",
       " 'get_deferred_fields',\n",
       " 'get_filterable_search_fields',\n",
       " 'get_indexed_instance',\n",
       " 'get_indexed_objects',\n",
       " 'get_method_display',\n",
       " 'get_next_by_created',\n",
       " 'get_next_by_modified',\n",
       " 'get_objectivity_display',\n",
       " 'get_previous_by_created',\n",
       " 'get_previous_by_modified',\n",
       " 'get_rules_intersection_operator_display',\n",
       " 'get_search_fields',\n",
       " 'get_searchable_search_fields',\n",
       " 'get_type_display',\n",
       " 'get_usage',\n",
       " 'id',\n",
       " 'index_entries',\n",
       " 'indexed_get_content_type',\n",
       " 'indexed_get_parent',\n",
       " 'indexed_get_toplevel_content_type',\n",
       " 'mandatory',\n",
       " 'max_multiple_choices',\n",
       " 'method',\n",
       " 'modified',\n",
       " 'name',\n",
       " 'objectivity',\n",
       " 'objects',\n",
       " 'participationresponses',\n",
       " 'percentage_ranges',\n",
       " 'pk',\n",
       " 'population_lower_bound',\n",
       " 'population_upper_bound',\n",
       " 'prepare_database_save',\n",
       " 'principal_panels',\n",
       " 'profiledefinition_that_depend_on_me',\n",
       " 'profiles',\n",
       " 'profiling_question',\n",
       " 'question_statement',\n",
       " 'questionrule_that_depend_on_me',\n",
       " 'refresh_from_db',\n",
       " 'representativity_criteria',\n",
       " 'response_choices',\n",
       " 'roles',\n",
       " 'rules',\n",
       " 'rules_intersection_operator',\n",
       " 'save',\n",
       " 'save_base',\n",
       " 'search_fields',\n",
       " 'serializable_data',\n",
       " 'serializable_value',\n",
       " 'survey_type',\n",
       " 'to_json',\n",
       " 'type',\n",
       " 'unique_error_message',\n",
       " 'usage_url',\n",
       " 'validate_unique']"
      ]
     },
     "execution_count": 47,
     "metadata": {},
     "output_type": "execute_result"
    }
   ],
   "source": [
    "dir(question)"
   ]
  },
  {
   "cell_type": "code",
   "execution_count": 49,
   "id": "c9e9b2ba",
   "metadata": {
    "scrolled": false
   },
   "outputs": [
    {
     "data": {
      "text/plain": [
       "{'_state': <django.db.models.base.ModelState at 0x7fc061f3c250>,\n",
       " 'id': 13,\n",
       " 'created': datetime.datetime(2022, 5, 16, 15, 0, 16, 228915, tzinfo=<UTC>),\n",
       " 'modified': datetime.datetime(2022, 5, 16, 15, 0, 16, 228915, tzinfo=<UTC>),\n",
       " 'rules_intersection_operator': 'and',\n",
       " 'code': '1',\n",
       " 'concatenated_code': 'T.A.2.1',\n",
       " 'name': 'Nouvelle question',\n",
       " 'question_statement': 'Nouvelle question ?',\n",
       " 'mandatory': True,\n",
       " 'type': 'boolean',\n",
       " 'population_lower_bound': None,\n",
       " 'population_upper_bound': None,\n",
       " 'allows_to_explain_id': None,\n",
       " 'max_multiple_choices': None,\n",
       " 'description': '',\n",
       " 'comments': '',\n",
       " 'criteria_id': 10,\n",
       " 'objectivity': 'subjective',\n",
       " 'method': 'qualitative',\n",
       " 'profiling_question': False,\n",
       " 'true': 2,\n",
       " 'false': 1}"
      ]
     },
     "execution_count": 49,
     "metadata": {},
     "output_type": "execute_result"
    }
   ],
   "source": [
    "base_queryset = {\n",
    "    \"participationresponses__participation__user__is_unknown_user\": False,\n",
    "    \"participationresponses__participation__assessment_id\": assessment_pk,\n",
    "}\n",
    "queryset.annotate(true=Count(\"participationresponses\", filter=Q(**base_queryset, participationresponses__boolean_response=True)), false=Count(\"participationresponses\", filter=Q(**base_queryset, participationresponses__boolean_response=False))).get().__dict__"
   ]
  },
  {
   "cell_type": "code",
   "execution_count": 29,
   "id": "d1915de5",
   "metadata": {},
   "outputs": [
    {
     "data": {
      "text/plain": [
       "3"
      ]
     },
     "execution_count": 29,
     "metadata": {},
     "output_type": "execute_result"
    }
   ],
   "source": [
    "Question.objects.filter(type=QuestionType.PERCENTAGE)[0].pk"
   ]
  },
  {
   "cell_type": "code",
   "execution_count": 42,
   "id": "91ab7d38",
   "metadata": {},
   "outputs": [],
   "source": [
    "q2 = Question.objects.filter(profiling_question=False).filter(id=question_pk)"
   ]
  },
  {
   "cell_type": "code",
   "execution_count": 43,
   "id": "784c91ee",
   "metadata": {},
   "outputs": [
    {
     "ename": "SyntaxError",
     "evalue": "unexpected EOF while parsing (103158071.py, line 1)",
     "output_type": "error",
     "traceback": [
      "\u001b[0;36m  Input \u001b[0;32mIn [43]\u001b[0;36m\u001b[0m\n\u001b[0;31m    q2.annotate(Count(participationresponses__participation__user__is_unknown_user=False)\u001b[0m\n\u001b[0m                                                                                         ^\u001b[0m\n\u001b[0;31mSyntaxError\u001b[0m\u001b[0;31m:\u001b[0m unexpected EOF while parsing\n"
     ]
    }
   ],
   "source": [
    "q2.annotate(Count(participationresponses__participation__user__is_unknown_user=False)"
   ]
  },
  {
   "cell_type": "code",
   "execution_count": 39,
   "id": "d18c10ec",
   "metadata": {},
   "outputs": [
    {
     "data": {
      "text/plain": [
       "<QuerySet [<ResponseChoice: Un peu>, <ResponseChoice: Moyen>, <ResponseChoice: Beaucoup>, <ResponseChoice: Absolument>]>"
      ]
     },
     "execution_count": 39,
     "metadata": {},
     "output_type": "execute_result"
    }
   ],
   "source": [
    "rc=ResponseChoice.objects.filter(question_id=question_pk)\n",
    "rc"
   ]
  },
  {
   "cell_type": "code",
   "execution_count": 63,
   "id": "f4f366ba",
   "metadata": {
    "scrolled": true
   },
   "outputs": [],
   "source": [
    "# current_queryset = {f\"question__{item}\": value for item, value in base_queryset.items()}\n",
    "current_queryset = {'participation_response__participation__user__is_unknown_user': False,\n",
    " 'participation_response__participation__assessment_id': assessment_pk,\n",
    "                   'participation_response__has_passed': False}"
   ]
  },
  {
   "cell_type": "code",
   "execution_count": 40,
   "id": "0b8e7d5a",
   "metadata": {},
   "outputs": [
    {
     "data": {
      "text/plain": [
       "['DoesNotExist',\n",
       " 'Meta',\n",
       " 'MultipleObjectsReturned',\n",
       " '__class__',\n",
       " '__delattr__',\n",
       " '__dict__',\n",
       " '__dir__',\n",
       " '__doc__',\n",
       " '__eq__',\n",
       " '__format__',\n",
       " '__ge__',\n",
       " '__getattribute__',\n",
       " '__getstate__',\n",
       " '__gt__',\n",
       " '__hash__',\n",
       " '__init__',\n",
       " '__init_subclass__',\n",
       " '__le__',\n",
       " '__lt__',\n",
       " '__module__',\n",
       " '__ne__',\n",
       " '__new__',\n",
       " '__reduce__',\n",
       " '__reduce_ex__',\n",
       " '__repr__',\n",
       " '__setattr__',\n",
       " '__setstate__',\n",
       " '__sizeof__',\n",
       " '__str__',\n",
       " '__subclasshook__',\n",
       " '__weakref__',\n",
       " '_check_column_name_clashes',\n",
       " '_check_constraints',\n",
       " '_check_default_pk',\n",
       " '_check_field_name_clashes',\n",
       " '_check_fields',\n",
       " '_check_id_field',\n",
       " '_check_index_together',\n",
       " '_check_indexes',\n",
       " '_check_local_fields',\n",
       " '_check_long_column_names',\n",
       " '_check_m2m_through_same_relationship',\n",
       " '_check_managers',\n",
       " '_check_model',\n",
       " '_check_model_name_db_lookup_clashes',\n",
       " '_check_ordering',\n",
       " '_check_property_name_related_field_accessor_clashes',\n",
       " '_check_single_primary_key',\n",
       " '_check_swappable',\n",
       " '_check_unique_together',\n",
       " '_do_insert',\n",
       " '_do_update',\n",
       " '_get_FIELD_display',\n",
       " '_get_expr_references',\n",
       " '_get_next_or_previous_by_FIELD',\n",
       " '_get_next_or_previous_in_order',\n",
       " '_get_pk_val',\n",
       " '_get_unique_checks',\n",
       " '_meta',\n",
       " '_perform_date_checks',\n",
       " '_perform_unique_checks',\n",
       " '_prepare_related_fields_for_save',\n",
       " '_save_parents',\n",
       " '_save_table',\n",
       " '_set_pk_val',\n",
       " '_state',\n",
       " 'associated_score',\n",
       " 'check',\n",
       " 'clean',\n",
       " 'clean_fields',\n",
       " 'closedwithscalecategoryresponse_set',\n",
       " 'created',\n",
       " 'date_error_message',\n",
       " 'delete',\n",
       " 'description',\n",
       " 'from_db',\n",
       " 'full_clean',\n",
       " 'get_deferred_fields',\n",
       " 'get_next_by_created',\n",
       " 'get_next_by_modified',\n",
       " 'get_previous_by_created',\n",
       " 'get_previous_by_modified',\n",
       " 'id',\n",
       " 'linearized_score',\n",
       " 'modified',\n",
       " 'multiple_choice_assessmentresponses',\n",
       " 'multiple_choice_participationresponses',\n",
       " 'objects',\n",
       " 'panels',\n",
       " 'pk',\n",
       " 'prepare_database_save',\n",
       " 'profiledefinition_set',\n",
       " 'question',\n",
       " 'question_id',\n",
       " 'questionrule_set',\n",
       " 'refresh_from_db',\n",
       " 'representativity_criteria_rule',\n",
       " 'response_choice',\n",
       " 'save',\n",
       " 'save_base',\n",
       " 'serializable_value',\n",
       " 'sort_order',\n",
       " 'sort_order_field',\n",
       " 'unique_choice_assessmentresponses',\n",
       " 'unique_choice_participationresponses',\n",
       " 'unique_error_message',\n",
       " 'update_score',\n",
       " 'validate_unique']"
      ]
     },
     "execution_count": 40,
     "metadata": {},
     "output_type": "execute_result"
    }
   ],
   "source": [
    "dir(rc[0])"
   ]
  },
  {
   "cell_type": "code",
   "execution_count": 47,
   "id": "efc1f073",
   "metadata": {},
   "outputs": [
    {
     "data": {
      "text/plain": [
       "['DoesNotExist',\n",
       " 'MultipleObjectsReturned',\n",
       " '__class__',\n",
       " '__delattr__',\n",
       " '__dict__',\n",
       " '__dir__',\n",
       " '__doc__',\n",
       " '__eq__',\n",
       " '__format__',\n",
       " '__ge__',\n",
       " '__getattribute__',\n",
       " '__getstate__',\n",
       " '__gt__',\n",
       " '__hash__',\n",
       " '__init__',\n",
       " '__init_subclass__',\n",
       " '__le__',\n",
       " '__lt__',\n",
       " '__module__',\n",
       " '__ne__',\n",
       " '__new__',\n",
       " '__reduce__',\n",
       " '__reduce_ex__',\n",
       " '__repr__',\n",
       " '__setattr__',\n",
       " '__setstate__',\n",
       " '__sizeof__',\n",
       " '__str__',\n",
       " '__subclasshook__',\n",
       " '__weakref__',\n",
       " '_check_column_name_clashes',\n",
       " '_check_constraints',\n",
       " '_check_default_pk',\n",
       " '_check_field_name_clashes',\n",
       " '_check_fields',\n",
       " '_check_id_field',\n",
       " '_check_index_together',\n",
       " '_check_indexes',\n",
       " '_check_local_fields',\n",
       " '_check_long_column_names',\n",
       " '_check_m2m_through_same_relationship',\n",
       " '_check_managers',\n",
       " '_check_model',\n",
       " '_check_model_name_db_lookup_clashes',\n",
       " '_check_ordering',\n",
       " '_check_property_name_related_field_accessor_clashes',\n",
       " '_check_single_primary_key',\n",
       " '_check_swappable',\n",
       " '_check_unique_together',\n",
       " '_do_insert',\n",
       " '_do_update',\n",
       " '_get_FIELD_display',\n",
       " '_get_expr_references',\n",
       " '_get_next_or_previous_by_FIELD',\n",
       " '_get_next_or_previous_in_order',\n",
       " '_get_pk_val',\n",
       " '_get_unique_checks',\n",
       " '_meta',\n",
       " '_perform_date_checks',\n",
       " '_perform_unique_checks',\n",
       " '_prepare_related_fields_for_save',\n",
       " '_save_parents',\n",
       " '_save_table',\n",
       " '_set_pk_val',\n",
       " '_state',\n",
       " 'assessment_response',\n",
       " 'assessment_response_id',\n",
       " 'category',\n",
       " 'category_id',\n",
       " 'check',\n",
       " 'clean',\n",
       " 'clean_fields',\n",
       " 'date_error_message',\n",
       " 'delete',\n",
       " 'from_db',\n",
       " 'full_clean',\n",
       " 'get_deferred_fields',\n",
       " 'id',\n",
       " 'objects',\n",
       " 'participation_response',\n",
       " 'participation_response_id',\n",
       " 'pk',\n",
       " 'prepare_database_save',\n",
       " 'refresh_from_db',\n",
       " 'response_choice',\n",
       " 'response_choice_id',\n",
       " 'save',\n",
       " 'save_base',\n",
       " 'serializable_value',\n",
       " 'unique_error_message',\n",
       " 'validate_unique']"
      ]
     },
     "execution_count": 47,
     "metadata": {},
     "output_type": "execute_result"
    }
   ],
   "source": [
    "dir(rc[1].closedwithscalecategoryresponse_set.all()[0])"
   ]
  },
  {
   "cell_type": "code",
   "execution_count": 57,
   "id": "435887a2",
   "metadata": {},
   "outputs": [
    {
     "data": {
      "text/plain": [
       "<QuerySet [{'id': 47, 'closedwithscalecategoryresponse__category_id': None, 'count': 0}, {'id': 48, 'closedwithscalecategoryresponse__category_id': 1, 'count': 2}, {'id': 48, 'closedwithscalecategoryresponse__category_id': 2, 'count': 2}, {'id': 49, 'closedwithscalecategoryresponse__category_id': 1, 'count': 1}, {'id': 50, 'closedwithscalecategoryresponse__category_id': 2, 'count': 1}]>"
      ]
     },
     "execution_count": 57,
     "metadata": {},
     "output_type": "execute_result"
    }
   ],
   "source": [
    "res = ResponseChoice.objects.filter(\n",
    "            question_id=question_pk\n",
    "        ).values(\"id\", \"closedwithscalecategoryresponse__category_id\")\n",
    "res.annotate(count=Count(\"closedwithscalecategoryresponse\"))"
   ]
  },
  {
   "cell_type": "code",
   "execution_count": 64,
   "id": "f7a93086",
   "metadata": {},
   "outputs": [
    {
     "data": {
      "text/plain": [
       "<QuerySet [{'category_id': 1, 'response_choice_id': 48, 'count': 1}, {'category_id': 1, 'response_choice_id': 49, 'count': 1}, {'category_id': 2, 'response_choice_id': 48, 'count': 1}, {'category_id': 2, 'response_choice_id': 50, 'count': 1}]>"
      ]
     },
     "execution_count": 64,
     "metadata": {},
     "output_type": "execute_result"
    }
   ],
   "source": [
    "res = ClosedWithScaleCategoryResponse.objects.filter(\n",
    "            participation_response__question_id=question_pk, **current_queryset\n",
    "        ).values(\"category_id\", \"response_choice_id\").annotate(count=Count(\"id\"))\n",
    "res"
   ]
  },
  {
   "cell_type": "code",
   "execution_count": null,
   "id": "c384f673",
   "metadata": {},
   "outputs": [],
   "source": []
  },
  {
   "cell_type": "code",
   "execution_count": 79,
   "id": "c1973dbd",
   "metadata": {},
   "outputs": [
    {
     "data": {
      "text/plain": [
       "defaultdict(<function __main__.<lambda>()>,\n",
       "            {1: {48: 1, 49: 1}, 2: {48: 1, 50: 1}})"
      ]
     },
     "execution_count": 79,
     "metadata": {},
     "output_type": "execute_result"
    }
   ],
   "source": [
    "result_by_category_id = defaultdict(lambda: {})\n",
    "for item in res:\n",
    "    result_by_category_id[item[\"category_id\"]][item[\"response_choice_id\"]] = item[\"count\"]\n",
    "result_by_category_id"
   ]
  },
  {
   "cell_type": "code",
   "execution_count": 81,
   "id": "18cd5452",
   "metadata": {},
   "outputs": [
    {
     "data": {
      "text/plain": [
       "{1: {'label': 'Défault',\n",
       "  'value': {47: {'label': 'Un peu', 'value': 0},\n",
       "   48: {'label': 'Moyen', 'value': 1},\n",
       "   49: {'label': 'Beaucoup', 'value': 1},\n",
       "   50: {'label': 'Absolument', 'value': 0}}},\n",
       " 2: {'label': 'Vieux',\n",
       "  'value': {47: {'label': 'Un peu', 'value': 0},\n",
       "   48: {'label': 'Moyen', 'value': 1},\n",
       "   49: {'label': 'Beaucoup', 'value': 0},\n",
       "   50: {'label': 'Absolument', 'value': 1}}}}"
      ]
     },
     "execution_count": 81,
     "metadata": {},
     "output_type": "execute_result"
    }
   ],
   "source": [
    "data = {}\n",
    "response_choices = ResponseChoice.objects.filter(question_id=question_pk)\n",
    "for category in Category.objects.filter(question_id=question_pk):\n",
    "    data[category.id] = {\"label\": category.category, \"value\": {}}\n",
    "    for response_choice in response_choices:\n",
    "        \n",
    "        data[category.id][\"value\"][response_choice.id] = {\n",
    "            \"label\": response_choice.response_choice,\n",
    "            \"value\": result_by_category_id[category.id].get(response_choice.id, 0)\n",
    "        }\n",
    "data"
   ]
  },
  {
   "cell_type": "code",
   "execution_count": 83,
   "id": "f4d6cd7b",
   "metadata": {},
   "outputs": [
    {
     "data": {
      "text/plain": [
       "<QuerySet [<ResponseChoice: Un peu>, <ResponseChoice: Moyen>, <ResponseChoice: Beaucoup>, <ResponseChoice: Absolument>]>"
      ]
     },
     "execution_count": 83,
     "metadata": {},
     "output_type": "execute_result"
    }
   ],
   "source": [
    "ResponseChoice.objects.filter(question_id=question_pk)"
   ]
  },
  {
   "cell_type": "code",
   "execution_count": null,
   "id": "4298d58a",
   "metadata": {},
   "outputs": [],
   "source": []
  }
 ],
 "metadata": {
  "kernelspec": {
   "display_name": "Django Shell-Plus",
   "language": "python",
   "name": "django_extensions"
  },
  "language_info": {
   "codemirror_mode": {
    "name": "ipython",
    "version": 3
   },
   "file_extension": ".py",
   "mimetype": "text/x-python",
   "name": "python",
   "nbconvert_exporter": "python",
   "pygments_lexer": "ipython3",
   "version": "3.8.10"
  }
 },
 "nbformat": 4,
 "nbformat_minor": 5
}
